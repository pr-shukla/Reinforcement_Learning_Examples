{
 "cells": [
  {
   "cell_type": "code",
   "execution_count": 11,
   "metadata": {},
   "outputs": [
    {
     "data": {
      "text/plain": [
       "[<matplotlib.lines.Line2D at 0x1f175d3c6c8>]"
      ]
     },
     "execution_count": 11,
     "metadata": {},
     "output_type": "execute_result"
    },
    {
     "data": {
      "image/png": "[encoded data removed]",
      "text/plain": [
       "<Figure size 432x288 with 1 Axes>"
      ]
     },
     "metadata": {
      "needs_background": "light"
     },
     "output_type": "display_data"
    },
    {
     "data": {
      "image/png": "[encoded data removed]",
      "text/plain": [
       "<Figure size 432x288 with 1 Axes>"
      ]
     },
     "metadata": {
      "needs_background": "light"
     },
     "output_type": "display_data"
    }
   ],
   "source": [
    "import matplotlib.pyplot as plt\n",
    "import numpy as np\n",
    "\n",
    "'''--------------------------------------------------------------------------------------------'''\n",
    "\n",
    "'''Create Function (value)''' \n",
    "def value(s,action,V):\n",
    "    val = []\n",
    "    \n",
    "    #Iterating over every possible actions for given state\n",
    "    #because we have to find action with maximum value\n",
    "    for a in action:\n",
    "        v = 0\n",
    "        for state in range(101):\n",
    "            #Summing over all possible states we can reach \n",
    "            #with action 'a' being in state 's'\n",
    "            \n",
    "            #We can either reach 's+a' or 's-a' state with\n",
    "            #'a' being inm state 's'\n",
    "            v = v + prob(state,s,a)*(reward(state,s,a)+V[state])\n",
    "        val.append(v)\n",
    "    return [max(val),np.argmax(val)]\n",
    "\n",
    "'''Calculating Reward for reaching 'state' with action 'a' being in state 's' '''\n",
    "def reward(state,s,a):\n",
    "    if state == s + a and s+a == 100:\n",
    "        r = 1\n",
    "    else:\n",
    "        r = 0\n",
    "    \n",
    "    return (r)\n",
    "\n",
    "'''Calculating Probability for reaching 'state' with action 'a' being in state 's' '''\n",
    "def prob(state,s,a):\n",
    "    if state == s + a:\n",
    "        p = 0.4\n",
    "    elif state == s - a:\n",
    "        p = 0.6\n",
    "    else:\n",
    "        p = 0\n",
    "    return (p)\n",
    "    \n",
    "'''This function will output different possible actions for given state'''\n",
    "def action(s):\n",
    "    return(np.arange(0,min(s,100-s)+1))\n",
    "\n",
    "'''--------------------------------------------------------------------------------------------'''\n",
    "\n",
    "#Intializing values of value function randomly with zero\n",
    "V = np.zeros(101)\n",
    "\n",
    "#Creating 101 different possible states from 0 to 100\n",
    "S = np.arange(0,101)\n",
    "\n",
    "Del = 0\n",
    "\n",
    "for i in range(60):\n",
    "    '''Del = 0\n",
    "    vv = V[1:100]'''\n",
    "    \n",
    "    #We will iterate over different possible states\n",
    "    #to update values for that state\n",
    "    for s in S[1:100]:\n",
    "        #Starting Value Iteration Algorithm,\n",
    "        #We will update values from here onwards\n",
    "        #We will call function 'value'\n",
    "        \n",
    "        #We'll find possible actions for state\n",
    "        #by calling function action\n",
    "        V[s] = value(s,action(s),V)[0]\n",
    "    \n",
    "    \n",
    "    if i == 1 or i == 2 or i == 0 or i == 31:\n",
    "        plt.plot(V[:100])\n",
    "    \n",
    "pol = np.zeros(99)\n",
    "for s in S[1:100]:\n",
    "    pol[s-1] = value(s,action(s),V)[1]\n",
    "\n",
    "plt.figure()\n",
    "plt.plot(pol,'.')"
   ]
  }
 ],
 "metadata": {
  "kernelspec": {
   "display_name": "Python 3",
   "language": "python",
   "name": "python3"
  },
  "language_info": {
   "codemirror_mode": {
    "name": "ipython",
    "version": 3
   },
   "file_extension": ".py",
   "mimetype": "text/x-python",
   "name": "python",
   "nbconvert_exporter": "python",
   "pygments_lexer": "ipython3",
   "version": "3.7.7"
  }
 },
 "nbformat": 4,
 "nbformat_minor": 4
}
